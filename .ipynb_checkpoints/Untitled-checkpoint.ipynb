{
 "cells": [
  {
   "cell_type": "code",
   "execution_count": 1,
   "metadata": {},
   "outputs": [
    {
     "name": "stderr",
     "output_type": "stream",
     "text": [
      "Using TensorFlow backend.\n"
     ]
    }
   ],
   "source": [
    "from keras.models import Sequential\n",
    "from keras.layers import Dense, Activation, Flatten\n",
    "from sklearn.metrics import mean_absolute_error \n",
    "from matplotlib import pyplot as plt\n",
    "import pandas as pd\n",
    "import numpy as np\n",
    "import tensorflow as tf\n",
    "from tensorflow import keras\n",
    "from tensorflow.keras import layers\n",
    "import tensorflow\n",
    "import tensorflow_docs as tfdocs\n",
    "import tensorflow_docs.plots\n",
    "import tensorflow_docs.modeling\n",
    "from sklearn.preprocessing import StandardScaler\n",
    "from keras.layers import Dense, Conv1D, Flatten\n",
    "import random\n",
    "random.seed(123)\n",
    "\n",
    "\n",
    "\n",
    "\n",
    "CAT_DTYPES={\"Id\": \"int64\", \"MSSubClass\": \"int64\", \"MSZoning\": \"category\", \"Street\": \"category\",\n",
    "            \"Alley\": \"category\", \"LotShape\": \"category\", \"LandContour\": \"category\", \"Utilities\": \"category\",\n",
    "            \"LotConfig\": \"category\", \"LandSlope\":\"category\", \"Neighborhood\": \"category\", \"Condition1\": \"category\",\n",
    "            \"Condition2\": \"category\", \"BldgType\": \"category\", \"HouseStyle\": \"category\", \"RoofStyle\": \"category\",\n",
    "            \"RoofMatl\": \"category\", \"Exterior1st\": \"category\", \"Exterior2nd\":\"category\", \"MasVnrType\": \"category\", \"ExterQual\": \"category\",\n",
    "            \"ExterCond\": \"category\", \"Foundation\":\"category\", \"BsmtQual\": \"category\", \"BsmtCond\": \"category\", \"BsmtExposure\":\"category\", \"BsmtFinType1\":\"category\",\n",
    "            \"BsmtFinType2\":\"category\",\"Heating\":\"category\", \"HeatingQC\": \"category\", \"CentralAir\": \"category\", \"Electrical\": \"category\",\n",
    "            \"KitchenQual\":\"category\", \"Functional\": \"category\", \"FireplaceQu\": \"category\", \"GarageType\": \"category\", \"GarageFinish\":\"category\",\n",
    "            \"GarageQual\": \"category\", \"GarageCond\": \"category\", \"PavedDrive\": \"category\", \"PoolQC\": \"category\", \"Fence\": \"category\",\n",
    "            \"MiscFeature\": \"category\", \"SaleType\": \"category\", \"SaleCondition\": \"category\"}\n",
    "\n",
    "data = pd.read_csv(\"/Users/milesklingenberg/Documents/UWMSBA/590/Data/train_house-1.csv\", dtype=CAT_DTYPES)\n",
    "\n",
    "def create_data_categorical(data):\n",
    "    for col, col_dtype in CAT_DTYPES.items():\n",
    "        if col_dtype == \"category\":\n",
    "            data[col] = data[col].astype('category').cat.codes\n",
    "\n",
    "\n",
    "    return data\n",
    "\n",
    "data = create_data_categorical(data)\n",
    "SFTotals = data.filter(regex=\"SF\")\n",
    "data['totalsf'] = SFTotals.sum(axis=1)"
   ]
  },
  {
   "cell_type": "code",
   "execution_count": 2,
   "metadata": {},
   "outputs": [
    {
     "name": "stdout",
     "output_type": "stream",
     "text": [
      "tensorflow_version: 2.2.0\n",
      "keras_version: 2.3.0-tf\n"
     ]
    }
   ],
   "source": [
    "print('tensorflow_version:', tf.__version__)\n",
    "print('keras_version:', keras.__version__)"
   ]
  },
  {
   "cell_type": "code",
   "execution_count": 3,
   "metadata": {},
   "outputs": [],
   "source": [
    "##We know which variables going to use based on our data exploration.\n",
    "\n",
    "data_1 = data[['OverallQual', 'totalsf', 'ExterQual', 'SalePrice']]\n",
    "#print(data_1.isnull().any())\n",
    "##x_train = data_1[['OverallQual', 'totalsf', 'GarageCars', 'ExterQual', 'TotalBsmtSF', '1stFlrSF', 'KitchenQual',]]\n",
    "##y_train = data_1['SalePrice']\n",
    "\n",
    "sc = StandardScaler()\n",
    "train = sc.fit_transform(data_1)\n",
    "\n",
    "x_train = train[:,0:3]\n",
    "y_train = train[:,3]"
   ]
  },
  {
   "cell_type": "code",
   "execution_count": 4,
   "metadata": {},
   "outputs": [],
   "source": [
    "test_ = pd.read_csv(\"/Users/milesklingenberg/Documents/UWMSBA/590/Data/test_house-1.csv\", dtype=CAT_DTYPES)\n",
    "test_ = pd.DataFrame(test_)\n",
    "\n",
    "SFTotals_test = test_.filter(regex=\"SF\")\n",
    "test_['totalsf'] = SFTotals_test.sum(axis=1)"
   ]
  },
  {
   "cell_type": "code",
   "execution_count": 5,
   "metadata": {},
   "outputs": [],
   "source": [
    "test_ = test_[['Overall Qual', 'totalsf', 'Exter Qual']]\n",
    "\n",
    "test_['ExterQual'] = test_['Exter Qual'].astype('category').cat.codes\n",
    "#test_['KitchenQal'] = test_['Kitchen Qual'].astype('category').cat.codes\n",
    "test_1 = test_.drop(columns = ['Exter Qual'])\n",
    "#test_1 = test_1.drop(columns = ['Kitchen Qual'])\n",
    "\n",
    "sc = StandardScaler()\n",
    "test_ = sc.fit_transform(test_1)\n",
    "\n",
    "x_test = test_[:,0:3]\n"
   ]
  },
  {
   "cell_type": "code",
   "execution_count": 6,
   "metadata": {},
   "outputs": [],
   "source": [
    "def build_model():\n",
    "  model = keras.Sequential([\n",
    "    layers.Dense(32, activation='relu', input_dim=3),\n",
    "    layers.Dense(64, activation='relu'),\n",
    "    layers.Dense(1,  activation = 'linear'), \n",
    "\n",
    "\n",
    "  ])\n",
    "\n",
    "  #optimizer = tf.keras.optimizers.RMSprop(0.001)\n",
    "\n",
    "  model.compile(loss='mse',\n",
    "                optimizer='adam',\n",
    "                metrics=['mae', 'mse'])\n",
    "  return model"
   ]
  },
  {
   "cell_type": "code",
   "execution_count": 7,
   "metadata": {},
   "outputs": [],
   "source": [
    "model = build_model()"
   ]
  },
  {
   "cell_type": "code",
   "execution_count": 8,
   "metadata": {},
   "outputs": [
    {
     "name": "stdout",
     "output_type": "stream",
     "text": [
      "\n",
      "Epoch: 0, loss:0.5973,  mae:0.5160,  mse:0.5973,  val_loss:0.3614,  val_mae:0.3404,  val_mse:0.3614,  \n",
      "....................................................................................................\n",
      "Epoch: 100, loss:0.1617,  mae:0.2797,  mse:0.1617,  val_loss:0.1948,  val_mae:0.3012,  val_mse:0.1948,  \n",
      "....................................................................................................\n",
      "Epoch: 200, loss:0.1438,  mae:0.2731,  mse:0.1438,  val_loss:0.1894,  val_mae:0.3024,  val_mse:0.1894,  \n",
      "....................................................................................................\n",
      "Epoch: 300, loss:0.1326,  mae:0.2643,  mse:0.1326,  val_loss:0.1968,  val_mae:0.3024,  val_mse:0.1968,  \n",
      "....................................................................................................\n",
      "Epoch: 400, loss:0.1280,  mae:0.2602,  mse:0.1280,  val_loss:0.2071,  val_mae:0.3089,  val_mse:0.2071,  \n",
      "....................................................................................................\n",
      "Epoch: 500, loss:0.1268,  mae:0.2593,  mse:0.1268,  val_loss:0.1946,  val_mae:0.3076,  val_mse:0.1946,  \n",
      "....................................................................................................\n",
      "Epoch: 600, loss:0.1279,  mae:0.2588,  mse:0.1279,  val_loss:0.2220,  val_mae:0.3136,  val_mse:0.2220,  \n",
      "....................................................................................................\n",
      "Epoch: 700, loss:0.1256,  mae:0.2571,  mse:0.1256,  val_loss:0.2000,  val_mae:0.3136,  val_mse:0.2000,  \n",
      "....................................................................................................\n",
      "Epoch: 800, loss:0.1232,  mae:0.2574,  mse:0.1232,  val_loss:0.2007,  val_mae:0.3139,  val_mse:0.2007,  \n",
      "....................................................................................................\n",
      "Epoch: 900, loss:0.1221,  mae:0.2518,  mse:0.1221,  val_loss:0.1985,  val_mae:0.3111,  val_mse:0.1985,  \n",
      "...................................................................................................."
     ]
    }
   ],
   "source": [
    "\n",
    "EPOCHS = 1000\n",
    "\n",
    "history = model.fit(\n",
    "  x_train, y_train,\n",
    "  epochs=EPOCHS, validation_split = 0.2, verbose=0,\n",
    "  callbacks=[tfdocs.modeling.EpochDots()])"
   ]
  },
  {
   "cell_type": "code",
   "execution_count": 9,
   "metadata": {
    "scrolled": true
   },
   "outputs": [
    {
     "data": {
      "text/html": [
       "<div>\n",
       "<style scoped>\n",
       "    .dataframe tbody tr th:only-of-type {\n",
       "        vertical-align: middle;\n",
       "    }\n",
       "\n",
       "    .dataframe tbody tr th {\n",
       "        vertical-align: top;\n",
       "    }\n",
       "\n",
       "    .dataframe thead th {\n",
       "        text-align: right;\n",
       "    }\n",
       "</style>\n",
       "<table border=\"1\" class=\"dataframe\">\n",
       "  <thead>\n",
       "    <tr style=\"text-align: right;\">\n",
       "      <th></th>\n",
       "      <th>loss</th>\n",
       "      <th>mae</th>\n",
       "      <th>mse</th>\n",
       "      <th>val_loss</th>\n",
       "      <th>val_mae</th>\n",
       "      <th>val_mse</th>\n",
       "      <th>epoch</th>\n",
       "    </tr>\n",
       "  </thead>\n",
       "  <tbody>\n",
       "    <tr>\n",
       "      <th>995</th>\n",
       "      <td>0.120704</td>\n",
       "      <td>0.252826</td>\n",
       "      <td>0.120704</td>\n",
       "      <td>0.199206</td>\n",
       "      <td>0.312684</td>\n",
       "      <td>0.199206</td>\n",
       "      <td>995</td>\n",
       "    </tr>\n",
       "    <tr>\n",
       "      <th>996</th>\n",
       "      <td>0.121016</td>\n",
       "      <td>0.252597</td>\n",
       "      <td>0.121016</td>\n",
       "      <td>0.200988</td>\n",
       "      <td>0.310734</td>\n",
       "      <td>0.200988</td>\n",
       "      <td>996</td>\n",
       "    </tr>\n",
       "    <tr>\n",
       "      <th>997</th>\n",
       "      <td>0.120974</td>\n",
       "      <td>0.251119</td>\n",
       "      <td>0.120974</td>\n",
       "      <td>0.261351</td>\n",
       "      <td>0.326491</td>\n",
       "      <td>0.261351</td>\n",
       "      <td>997</td>\n",
       "    </tr>\n",
       "    <tr>\n",
       "      <th>998</th>\n",
       "      <td>0.124127</td>\n",
       "      <td>0.256532</td>\n",
       "      <td>0.124127</td>\n",
       "      <td>0.193685</td>\n",
       "      <td>0.312214</td>\n",
       "      <td>0.193685</td>\n",
       "      <td>998</td>\n",
       "    </tr>\n",
       "    <tr>\n",
       "      <th>999</th>\n",
       "      <td>0.125151</td>\n",
       "      <td>0.256682</td>\n",
       "      <td>0.125151</td>\n",
       "      <td>0.198007</td>\n",
       "      <td>0.313069</td>\n",
       "      <td>0.198007</td>\n",
       "      <td>999</td>\n",
       "    </tr>\n",
       "  </tbody>\n",
       "</table>\n",
       "</div>"
      ],
      "text/plain": [
       "         loss       mae       mse  val_loss   val_mae   val_mse  epoch\n",
       "995  0.120704  0.252826  0.120704  0.199206  0.312684  0.199206    995\n",
       "996  0.121016  0.252597  0.121016  0.200988  0.310734  0.200988    996\n",
       "997  0.120974  0.251119  0.120974  0.261351  0.326491  0.261351    997\n",
       "998  0.124127  0.256532  0.124127  0.193685  0.312214  0.193685    998\n",
       "999  0.125151  0.256682  0.125151  0.198007  0.313069  0.198007    999"
      ]
     },
     "execution_count": 9,
     "metadata": {},
     "output_type": "execute_result"
    }
   ],
   "source": [
    "hist = pd.DataFrame(history.history)\n",
    "hist['epoch'] = history.epoch\n",
    "hist.tail()"
   ]
  },
  {
   "cell_type": "code",
   "execution_count": 10,
   "metadata": {},
   "outputs": [],
   "source": [
    "plotter = tfdocs.plots.HistoryPlotter(smoothing_std=2)"
   ]
  },
  {
   "cell_type": "code",
   "execution_count": 11,
   "metadata": {},
   "outputs": [
    {
     "data": {
      "image/png": "[encoded data removed]",
      "text/plain": [
       "<Figure size 432x288 with 1 Axes>"
      ]
     },
     "metadata": {
      "needs_background": "light"
     },
     "output_type": "display_data"
    }
   ],
   "source": [
    "plotter.plot({'Basic': history}, metric = \"mae\")\n",
    "plt.show()"
   ]
  },
  {
   "cell_type": "code",
   "execution_count": 12,
   "metadata": {},
   "outputs": [
    {
     "name": "stdout",
     "output_type": "stream",
     "text": [
      "\n",
      "Epoch: 0, loss:0.4073,  mae:0.4185,  mse:0.4073,  val_loss:0.3982,  val_mae:0.3504,  val_mse:0.3982,  \n",
      "....................................................................................................\n",
      "Epoch: 100, loss:0.1607,  mae:0.2831,  mse:0.1607,  val_loss:0.1992,  val_mae:0.3023,  val_mse:0.1992,  \n",
      "....................................................................................................\n",
      "Epoch: 200, loss:0.1422,  mae:0.2716,  mse:0.1422,  val_loss:0.2171,  val_mae:0.3154,  val_mse:0.2171,  \n",
      "....................................................................................................\n",
      "Epoch: 300, loss:0.1334,  mae:0.2642,  mse:0.1334,  val_loss:0.2320,  val_mae:0.3154,  val_mse:0.2320,  \n",
      "....................................................................................................\n",
      "Epoch: 400, loss:0.1300,  mae:0.2627,  mse:0.1300,  val_loss:0.2512,  val_mae:0.3190,  val_mse:0.2512,  \n",
      "............................................................................"
     ]
    }
   ],
   "source": [
    "model = build_model()\n",
    "\n",
    "# The patience parameter is the amount of epochs to check for improvement\n",
    "early_stop = keras.callbacks.EarlyStopping(monitor='val_loss', patience=350)\n",
    "\n",
    "early_history = model.fit(x_train, y_train, \n",
    "                    epochs=EPOCHS, validation_split = 0.2, verbose=0, \n",
    "                    callbacks=[early_stop, tfdocs.modeling.EpochDots()] \n",
    "                         )"
   ]
  },
  {
   "cell_type": "code",
   "execution_count": 13,
   "metadata": {},
   "outputs": [
    {
     "data": {
      "image/png": "[encoded data removed]",
      "text/plain": [
       "<Figure size 432x288 with 1 Axes>"
      ]
     },
     "metadata": {
      "needs_background": "light"
     },
     "output_type": "display_data"
    }
   ],
   "source": [
    "plotter.plot({'Basic': early_history}, metric = \"mae\")"
   ]
  },
  {
   "cell_type": "code",
   "execution_count": 14,
   "metadata": {},
   "outputs": [],
   "source": [
    "test_predictions = model.predict(x_test)"
   ]
  },
  {
   "cell_type": "code",
   "execution_count": 15,
   "metadata": {},
   "outputs": [],
   "source": [
    "predictions = pd.DataFrame(test_predictions, columns = ['predictions'])"
   ]
  },
  {
   "cell_type": "code",
   "execution_count": 16,
   "metadata": {},
   "outputs": [],
   "source": [
    "values = pd.read_excel(\"/Users/milesklingenberg/Documents/UWMSBA/590/Data/Values.xlsx\")\n",
    "values = sc.fit_transform(values)\n",
    "values = pd.DataFrame(values, columns = ['SalePrice'])"
   ]
  },
  {
   "cell_type": "code",
   "execution_count": 17,
   "metadata": {},
   "outputs": [],
   "source": [
    "from sklearn.metrics import mean_squared_error\n",
    "from math import sqrt"
   ]
  },
  {
   "cell_type": "code",
   "execution_count": 18,
   "metadata": {},
   "outputs": [],
   "source": [
    "results= pd.concat([predictions, values], axis = 1)\n",
    "results = results.dropna()\n",
    "results_untransform = pd.DataFrame(sc.inverse_transform(results[['SalePrice', 'predictions']]), columns = ['SalePrice', 'Predictions'])"
   ]
  },
  {
   "cell_type": "code",
   "execution_count": 19,
   "metadata": {},
   "outputs": [
    {
     "data": {
      "image/png": "[encoded data removed]",
      "text/plain": [
       "<Figure size 432x288 with 1 Axes>"
      ]
     },
     "metadata": {
      "needs_background": "light"
     },
     "output_type": "display_data"
    }
   ],
   "source": [
    "a = plt.axes(aspect='equal')\n",
    "plt.scatter(results_untransform['Predictions'], results_untransform['SalePrice'])\n",
    "plt.xlabel('True Values [price]')\n",
    "plt.ylabel('Predictions [price]')\n",
    "lims = [0, 50]\n"
   ]
  },
  {
   "cell_type": "code",
   "execution_count": 20,
   "metadata": {},
   "outputs": [
    {
     "name": "stdout",
     "output_type": "stream",
     "text": [
      "      SalePrice    Predictions\n",
      "0      274000.0  315530.345874\n",
      "1      300000.0  287082.444296\n",
      "2      255900.0  259328.198403\n",
      "3      224900.0  202513.518571\n",
      "4      240000.0  228253.226571\n",
      "...         ...            ...\n",
      "1465   142500.0  149250.262084\n",
      "1466   131000.0  130379.215258\n",
      "1467   132000.0  131599.737442\n",
      "1468   170000.0  168622.557580\n",
      "1469   188000.0  189634.037130\n",
      "\n",
      "[1470 rows x 2 columns]\n"
     ]
    }
   ],
   "source": [
    "print(results_untransform)"
   ]
  },
  {
   "cell_type": "code",
   "execution_count": 21,
   "metadata": {},
   "outputs": [
    {
     "name": "stdout",
     "output_type": "stream",
     "text": [
      "32641.056464162655\n"
     ]
    }
   ],
   "source": [
    "print(sqrt(mean_squared_error(results_untransform['SalePrice'], results_untransform['Predictions'])))"
   ]
  },
  {
   "cell_type": "code",
   "execution_count": 22,
   "metadata": {},
   "outputs": [],
   "source": [
    "results_untransform['error'] = results_untransform['SalePrice']-results_untransform['Predictions']"
   ]
  },
  {
   "cell_type": "raw",
   "metadata": {},
   "source": []
  }
 ],
 "metadata": {
  "kernelspec": {
   "display_name": "Python 3",
   "language": "python",
   "name": "python3"
  },
  "language_info": {
   "codemirror_mode": {
    "name": "ipython",
    "version": 3
   },
   "file_extension": ".py",
   "mimetype": "text/x-python",
   "name": "python",
   "nbconvert_exporter": "python",
   "pygments_lexer": "ipython3",
   "version": "3.8.2"
  }
 },
 "nbformat": 4,
 "nbformat_minor": 4
}
