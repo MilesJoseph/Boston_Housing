{
 "cells": [
  {
   "cell_type": "code",
   "execution_count": null,
   "metadata": {},
   "outputs": [],
   "source": [
    "import numpy as np\n",
    "import pandas as pd\n",
    "from sklearn import metrics\n",
    "from math import sqrt\n",
    "import matplotlib.pyplot as plt\n",
    "pd.set_option('display.max_columns', 100)"
   ]
  },
  {
   "cell_type": "code",
   "execution_count": null,
   "metadata": {},
   "outputs": [],
   "source": [
    "data = pd.read_csv(\"/Users/milesklingenberg/Documents/UWMSBA/590/Data/cleaned_data.csv\")"
   ]
  },
  {
   "cell_type": "code",
   "execution_count": null,
   "metadata": {},
   "outputs": [],
   "source": [
    "xtrain = data.iloc[:,0:80]\n",
    "ytrain = data.iloc[:,80]\n",
    "xtrain = pd.DataFrame(xtrain)\n",
    "ytrain = pd.DataFrame(ytrain)"
   ]
  },
  {
   "cell_type": "code",
   "execution_count": null,
   "metadata": {
    "lines_to_next_cell": 1
   },
   "outputs": [],
   "source": [
    "SFTotals = xtrain.filter(regex=\"SF\")\n",
    "xtrain['totalsf'] = SFTotals.sum(axis=1)"
   ]
  },
  {
   "cell_type": "code",
   "execution_count": null,
   "metadata": {},
   "outputs": [],
   "source": [
    "def f(row):\n",
    "    if row['CentralAir'] == 1 and row['Fireplaces'] ==1 and row['FireplaceQu'] >= 2:\n",
    "        val = 1\n",
    "    else:\n",
    "        val = 0\n",
    "    return val\n",
    "xtrain['fireplacefeature'] = xtrain.apply(f,axis=1)"
   ]
  },
  {
   "cell_type": "code",
   "execution_count": null,
   "metadata": {},
   "outputs": [],
   "source": [
    "test = pd.read_csv(\"/Users/milesklingenberg/Documents/UWMSBA/590/Data/test.csv\")"
   ]
  },
  {
   "cell_type": "code",
   "execution_count": null,
   "metadata": {
    "lines_to_next_cell": 1
   },
   "outputs": [],
   "source": [
    "CAT_DTYPES={\"Id\": \"int64\", \"MSSubClass\": \"int64\", \"MSZoning\": \"category\", \"Street\": \"category\",\n",
    "            \"Alley\": \"category\", \"LotShape\": \"category\", \"LandContour\": \"category\", \"Utilities\": \"category\",\n",
    "            \"LotConfig\": \"category\", \"LandSlope\":\"category\", \"Neighborhood\": \"category\", \"Condition1\": \"category\",\n",
    "            \"Condition2\": \"category\", \"BldgType\": \"category\", \"HouseStyle\": \"category\", \"RoofStyle\": \"category\",\n",
    "            \"RoofMatl\": \"category\", \"Exterior1st\": \"category\", \"Exterior2nd\":\"category\", \"MasVnrType\": \"category\", \"ExterQual\": \"category\",\n",
    "            \"ExterCond\": \"category\", \"Foundation\":\"category\", \"BsmtQual\": \"category\", \"BsmtCond\": \"category\", \"BsmtExposure\":\"category\", \"BsmtFinType1\":\"category\",\n",
    "            \"BsmtFinType2\":\"category\",\"Heating\":\"category\", \"HeatingQC\": \"category\", \"CentralAir\": \"category\", \"Electrical\": \"category\",\n",
    "            \"KitchenQual\":\"category\", \"Functional\": \"category\", \"FireplaceQu\": \"category\", \"GarageType\": \"category\", \"GarageFinish\":\"category\",\n",
    "            \"GarageQual\": \"category\", \"GarageCond\": \"category\", \"PavedDrive\": \"category\", \"PoolQC\": \"category\", \"Fence\": \"category\",\n",
    "            \"MiscFeature\": \"category\", \"SaleType\": \"category\", \"SaleCondition\": \"category\"}"
   ]
  },
  {
   "cell_type": "code",
   "execution_count": null,
   "metadata": {
    "lines_to_next_cell": 1
   },
   "outputs": [],
   "source": [
    "def create_test_categorical(test):\n",
    "    for col, col_dtype in CAT_DTYPES.items():\n",
    "        if col_dtype == \"category\":\n",
    "            test[col] = test[col].astype('category').cat.codes\n",
    "    return test"
   ]
  },
  {
   "cell_type": "code",
   "execution_count": null,
   "metadata": {
    "lines_to_next_cell": 2
   },
   "outputs": [],
   "source": [
    "test = create_test_categorical(test)\n",
    "test_1 = test"
   ]
  },
  {
   "cell_type": "code",
   "execution_count": null,
   "metadata": {
    "lines_to_next_cell": 1
   },
   "outputs": [],
   "source": [
    "SFTotals = test.filter(regex=\"SF\")\n",
    "test['totalsf'] = SFTotals.sum(axis=1)"
   ]
  },
  {
   "cell_type": "code",
   "execution_count": null,
   "metadata": {
    "lines_to_next_cell": 2
   },
   "outputs": [],
   "source": [
    "def f(row):\n",
    "    if row['CentralAir'] == 1 and row['Fireplaces'] ==1 and row['FireplaceQu'] >= 2:\n",
    "        val = 1\n",
    "    else:\n",
    "        val = 0\n",
    "    return val\n",
    "test['fireplacefeature'] = test.apply(f,axis=1)"
   ]
  },
  {
   "cell_type": "markdown",
   "metadata": {
    "lines_to_next_cell": 2
   },
   "source": [
    "#X_train.set_index('Id', inplace = True)\n",
    "#y_train.set_index('Id', inplace = True)\n",
    "#test.set_index('Id', inplace = True)"
   ]
  },
  {
   "cell_type": "code",
   "execution_count": null,
   "metadata": {},
   "outputs": [],
   "source": [
    "from sklearn import metrics, tree\n",
    "from sklearn.model_selection import GridSearchCV\n",
    "from sklearn.metrics import accuracy_score, f1_score, mean_squared_error, r2_score\n",
    "from xgboost import XGBRegressor"
   ]
  },
  {
   "cell_type": "code",
   "execution_count": null,
   "metadata": {},
   "outputs": [],
   "source": [
    "XGB = XGBRegressor(n_jobs=-1)"
   ]
  },
  {
   "cell_type": "code",
   "execution_count": null,
   "metadata": {},
   "outputs": [],
   "source": [
    "# Use a grid over parameters of interest\n",
    "param_grid = {\n",
    "     'colsample_bytree':[0.3, 0.8, 1.0],\n",
    "     'n_estimators':[40 ,80, 150, 200,240, 300],\n",
    "     'max_depth': [1,2, 3,5, 8]\n",
    "}"
   ]
  },
  {
   "cell_type": "code",
   "execution_count": null,
   "metadata": {},
   "outputs": [],
   "source": [
    "CV_XGB = GridSearchCV(estimator=XGB, param_grid=param_grid, cv= 10)"
   ]
  },
  {
   "cell_type": "code",
   "execution_count": null,
   "metadata": {},
   "outputs": [],
   "source": [
    "%time CV_XGB.fit(xtrain, ytrain)"
   ]
  },
  {
   "cell_type": "code",
   "execution_count": null,
   "metadata": {},
   "outputs": [],
   "source": [
    "best_xgb_model = CV_XGB.best_estimator_\n",
    "print(CV_XGB.best_score_, CV_XGB.best_params_)"
   ]
  },
  {
   "cell_type": "code",
   "execution_count": null,
   "metadata": {},
   "outputs": [],
   "source": [
    "pred_train_xgb = best_xgb_model.predict(xtrain)\n",
    "pred_test_xgb = best_xgb_model.predict(test)"
   ]
  },
  {
   "cell_type": "code",
   "execution_count": null,
   "metadata": {},
   "outputs": [],
   "source": [
    "print(metrics.mean_squared_log_error(y_train, pred_train_xgb).round(5))\n",
    "print(sqrt(mean_squared_error(y_train, pred_train_xgb)))"
   ]
  },
  {
   "cell_type": "code",
   "execution_count": null,
   "metadata": {},
   "outputs": [],
   "source": [
    "y_train = pd.DataFrame(y_train)\n",
    "pred_train_xgb = pd.DataFrame(pred_train_xgb)\n",
    "error_df = [y_train, pred_train_xgb]\n",
    "error_df = pd.concat(error_df, axis=1)\n",
    "error_df.columns = ['SalePrice', 'Prediction_train']\n",
    "error_df['error'] = error_df['SalePrice']-error_df['Prediction_train']"
   ]
  },
  {
   "cell_type": "code",
   "execution_count": null,
   "metadata": {},
   "outputs": [],
   "source": [
    "plt.scatter(error_df['SalePrice'], error_df['error'])\n",
    "plt.show()"
   ]
  },
  {
   "cell_type": "code",
   "execution_count": null,
   "metadata": {},
   "outputs": [],
   "source": [
    "y_pred_test_xgb = pd.DataFrame(pred_test_xgb, columns = ['SalePrice'])"
   ]
  },
  {
   "cell_type": "code",
   "execution_count": null,
   "metadata": {},
   "outputs": [],
   "source": [
    "y_pred_test_xgb['Id'] = test_1['Id']"
   ]
  },
  {
   "cell_type": "code",
   "execution_count": null,
   "metadata": {},
   "outputs": [],
   "source": [
    "columnsTitles = ['Id', 'SalePrice']\n",
    "submission = y_pred_test_xgb.reindex(columns=columnsTitles)\n",
    "submission .head()"
   ]
  },
  {
   "cell_type": "code",
   "execution_count": null,
   "metadata": {},
   "outputs": [],
   "source": [
    "submission.to_csv(r'/Users/milesklingenberg/Documents/UWMSBA/590/Data/submission.csv', index=False)"
   ]
  },
  {
   "cell_type": "code",
   "execution_count": null,
   "metadata": {},
   "outputs": [],
   "source": [
    "check_features = pd.DataFrame(best_xgb_model.feature_importances_)"
   ]
  },
  {
   "cell_type": "code",
   "execution_count": null,
   "metadata": {},
   "outputs": [],
   "source": [
    "pd.set_option('display.max_rows', 100)"
   ]
  },
  {
   "cell_type": "code",
   "execution_count": null,
   "metadata": {},
   "outputs": [],
   "source": [
    "feat_labels = list(data.iloc[:,0:80])\n",
    "feat_labels = pd.DataFrame(feat_labels)\n",
    "merged = [feat_lables, check_features]\n",
    "results = pd.concat(merged, axis = 1)\n",
    "results.columns = ['feature', 'importance' ]\n",
    "results = results.sort_values('importance', ascending = False)\n",
    "results = results.head(25)\n",
    "results"
   ]
  },
  {
   "cell_type": "markdown",
   "metadata": {},
   "source": [
    "I went through, and the amount of features are actually helpful for this model. We can try creating a few more features. "
   ]
  }
 ],
 "metadata": {
  "jupytext": {
   "cell_metadata_filter": "-all",
   "notebook_metadata_filter": "-all",
   "text_representation": {
    "extension": ".py",
    "format_name": "light"
   }
  },
  "kernelspec": {
   "display_name": "Python 3",
   "language": "python",
   "name": "python3"
  },
  "language_info": {
   "codemirror_mode": {
    "name": "ipython",
    "version": 3
   },
   "file_extension": ".py",
   "mimetype": "text/x-python",
   "name": "python",
   "nbconvert_exporter": "python",
   "pygments_lexer": "ipython3",
   "version": "3.8.2"
  }
 },
 "nbformat": 4,
 "nbformat_minor": 4
}
