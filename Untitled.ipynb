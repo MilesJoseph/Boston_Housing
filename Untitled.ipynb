{
 "cells": [
  {
   "cell_type": "code",
   "execution_count": 5,
   "metadata": {},
   "outputs": [
    {
     "name": "stdout",
     "output_type": "stream",
     "text": [
      "Requirement already satisfied: numpy in /usr/local/Cellar/jupyterlab/2.1.1/libexec/lib/python3.8/site-packages (1.18.3)\n",
      "\u001b[33mWARNING: You are using pip version 20.0.2; however, version 20.1 is available.\n",
      "You should consider upgrading via the '/usr/local/Cellar/jupyterlab/2.1.1/libexec/bin/python3.8 -m pip install --upgrade pip' command.\u001b[0m\n",
      "Requirement already satisfied: seaborn in /usr/local/Cellar/jupyterlab/2.1.1/libexec/lib/python3.8/site-packages (0.10.1)\n",
      "Requirement already satisfied: scipy>=1.0.1 in /usr/local/Cellar/jupyterlab/2.1.1/libexec/lib/python3.8/site-packages (from seaborn) (1.4.1)\n",
      "Requirement already satisfied: numpy>=1.13.3 in /usr/local/Cellar/jupyterlab/2.1.1/libexec/lib/python3.8/site-packages (from seaborn) (1.18.3)\n",
      "Requirement already satisfied: pandas>=0.22.0 in /usr/local/Cellar/jupyterlab/2.1.1/libexec/lib/python3.8/site-packages (from seaborn) (1.0.3)\n",
      "Requirement already satisfied: matplotlib>=2.1.2 in /usr/local/Cellar/jupyterlab/2.1.1/libexec/lib/python3.8/site-packages (from seaborn) (3.2.1)\n",
      "Requirement already satisfied: pytz>=2017.2 in /usr/local/Cellar/jupyterlab/2.1.1/libexec/lib/python3.8/site-packages (from pandas>=0.22.0->seaborn) (2020.1)\n",
      "Requirement already satisfied: python-dateutil>=2.6.1 in /usr/local/Cellar/jupyterlab/2.1.1/libexec/lib/python3.8/site-packages (from pandas>=0.22.0->seaborn) (2.8.1)\n",
      "Requirement already satisfied: kiwisolver>=1.0.1 in /usr/local/Cellar/jupyterlab/2.1.1/libexec/lib/python3.8/site-packages (from matplotlib>=2.1.2->seaborn) (1.2.0)\n",
      "Requirement already satisfied: pyparsing!=2.0.4,!=2.1.2,!=2.1.6,>=2.0.1 in /usr/local/Cellar/jupyterlab/2.1.1/libexec/lib/python3.8/site-packages (from matplotlib>=2.1.2->seaborn) (2.4.7)\n",
      "Requirement already satisfied: cycler>=0.10 in /usr/local/Cellar/jupyterlab/2.1.1/libexec/lib/python3.8/site-packages (from matplotlib>=2.1.2->seaborn) (0.10.0)\n",
      "Requirement already satisfied: six>=1.5 in /usr/local/Cellar/jupyterlab/2.1.1/libexec/lib/python3.8/site-packages (from python-dateutil>=2.6.1->pandas>=0.22.0->seaborn) (1.14.0)\n",
      "\u001b[33mWARNING: You are using pip version 20.0.2; however, version 20.1 is available.\n",
      "You should consider upgrading via the '/usr/local/Cellar/jupyterlab/2.1.1/libexec/bin/python3.8 -m pip install --upgrade pip' command.\u001b[0m\n",
      "\u001b[31mERROR: Could not find a version that satisfies the requirement statsmodel.api (from versions: none)\u001b[0m\n",
      "\u001b[31mERROR: No matching distribution found for statsmodel.api\u001b[0m\n",
      "\u001b[33mWARNING: You are using pip version 20.0.2; however, version 20.1 is available.\n",
      "You should consider upgrading via the '/usr/local/Cellar/jupyterlab/2.1.1/libexec/bin/python3.8 -m pip install --upgrade pip' command.\u001b[0m\n"
     ]
    }
   ],
   "source": [
    "import sys\n",
    "\n",
    "!{sys.executable} -m pip install numpy\n",
    "!{sys.executable} -m pip install seaborn"
   ]
  },
  {
   "cell_type": "code",
   "execution_count": 7,
   "metadata": {},
   "outputs": [],
   "source": [
    "import pandas as pd\n",
    "import seaborn as sns\n",
    "import matplotlib.pyplot as plt\n",
    "import numpy as np\n",
    "import matplotlib.pyplot as plt\n",
    "\n",
    "CAT_DTYPES={\"Id\": \"int64\", \"MSSubClass\": \"int64\", \"MSZoning\": \"category\", \"Street\": \"category\",\n",
    "            \"Alley\": \"category\", \"LotShape\": \"category\", \"LandContour\": \"category\", \"Utilities\": \"category\",\n",
    "            \"LotConfig\": \"category\", \"LandSlope\":\"category\", \"Neighborhood\": \"category\", \"Condition1\": \"category\",\n",
    "            \"Condition2\": \"category\", \"BldgType\": \"category\", \"HouseStyle\": \"category\", \"RoofStyle\": \"category\",\n",
    "            \"RoofMatl\": \"category\", \"Exterior1st\": \"category\", \"Exterior2nd\":\"category\", \"MasVnrType\": \"category\", \"ExterQual\": \"category\",\n",
    "            \"ExterCond\": \"category\", \"Foundation\":\"category\", \"BsmtQual\": \"category\", \"BsmtCond\": \"category\", \"BsmtExposure\":\"category\", \"BsmtFinType1\":\"category\",\n",
    "            \"BsmtFinType2\":\"category\",\"Heating\":\"category\", \"HeatingQC\": \"category\", \"CentralAir\": \"category\", \"Electrical\": \"category\",\n",
    "            \"KitchenQual\":\"category\", \"Functional\": \"category\", \"FireplaceQu\": \"category\", \"GarageType\": \"category\", \"GarageFinish\":\"category\",\n",
    "            \"GarageQual\": \"category\", \"GarageCond\": \"category\", \"PavedDrive\": \"category\", \"PoolQC\": \"category\", \"Fence\": \"category\",\n",
    "            \"MiscFeature\": \"category\", \"SaleType\": \"category\", \"SaleCondition\": \"category\"}\n",
    "\n",
    "data = pd.read_csv(\"/Users/milesklingenberg/Documents/UWMSBA/590/Data/train_house-1.csv\", dtype=CAT_DTYPES)\n",
    "\n",
    "def create_data_categorical(data):\n",
    "    for col, col_dtype in CAT_DTYPES.items():\n",
    "        if col_dtype == \"category\":\n",
    "            data[col] = data[col].astype('category').cat.codes\n",
    "\n",
    "\n",
    "    return data\n",
    "\n",
    "data = create_data_categorical(data)\n",
    "\n"
   ]
  },
  {
   "cell_type": "code",
   "execution_count": 9,
   "metadata": {},
   "outputs": [
    {
     "name": "stdout",
     "output_type": "stream",
     "text": [
      "              SalePrice  abs_value_corr\n",
      "SalePrice      1.000000        1.000000\n",
      "OverallQual    0.790982        0.790982\n",
      "totalsf        0.763487        0.763487\n",
      "GrLivArea      0.708624        0.708624\n",
      "GarageCars     0.640409        0.640409\n",
      "ExterQual     -0.636884        0.636884\n",
      "GarageArea     0.623431        0.623431\n",
      "TotalBsmtSF    0.613581        0.613581\n",
      "1stFlrSF       0.605852        0.605852\n",
      "KitchenQual   -0.589189        0.589189\n",
      "FullBath       0.560664        0.560664\n",
      "TotRmsAbvGrd   0.533723        0.533723\n",
      "YearBuilt      0.522897        0.522897\n",
      "YearRemodAdd   0.507101        0.507101\n",
      "GarageYrBlt    0.486362        0.486362\n",
      "MasVnrArea     0.477493        0.477493\n",
      "Fireplaces     0.466929        0.466929\n",
      "BsmtQual      -0.438881        0.438881\n",
      "HeatingQC     -0.400178        0.400178\n",
      "BsmtFinSF1     0.386420        0.386420\n",
      "Foundation     0.382479        0.382479\n",
      "FireplaceQu    0.378377        0.378377\n",
      "LotFrontage    0.351799        0.351799\n",
      "WoodDeckSF     0.324413        0.324413\n",
      "2ndFlrSF       0.319334        0.319334\n"
     ]
    }
   ],
   "source": [
    "## we can start by looking at some of the data intuitively.\n",
    "\n",
    "#for col in data:\n",
    "    #print(col)\n",
    "\n",
    "#Let's look at correlation first.\n",
    "\n",
    "#corr = data.corr()\n",
    "#fig = plt.figure()\n",
    "#ax = fig.add_subplot(111)\n",
    "#cax = ax.matshow(corr,cmap='coolwarm', vmin=-1, vmax=1)\n",
    "#fig.colorbar(cax)\n",
    "#ticks = np.arange(0,len(data.columns),1)\n",
    "#ax.set_xticks(ticks)\n",
    "#plt.xticks(rotation=90)\n",
    "#ax.set_yticks(ticks)\n",
    "#ax.set_xticklabels(data.columns)\n",
    "#ax.set_yticklabels(data.columns)\n",
    "#plt.show()\n",
    "\n",
    "#let's just look at correlation and sort it\n",
    "\n",
    "## coming back, let's recreate the total square footage.\n",
    "\n",
    "SFTotals = data.filter(regex=\"SF\")\n",
    "data['totalsf'] = SFTotals.sum(axis=1)\n",
    "\n",
    "## we could also do one for total quality\n",
    "\n",
    "QualTotal = data.filter(regex=\"Qual\")\n",
    "data[\"qualttotal\"] = QualTotal.sum(axis=1)\n",
    "\n",
    "df_corr =data[data.columns[1:]].corr()['SalePrice'][:]\n",
    "df_corr = pd.DataFrame(df_corr)\n",
    "df_corr['abs_value_corr'] = df_corr['SalePrice'].apply(lambda x: abs(x) )\n",
    "df_corr = df_corr.sort_values('abs_value_corr', ascending =False)\n",
    "print(df_corr.head(25))"
   ]
  },
  {
   "cell_type": "code",
   "execution_count": 10,
   "metadata": {},
   "outputs": [
    {
     "data": {
      "image/png": "[encoded data removed]",
      "text/plain": [
       "<Figure size 432x288 with 1 Axes>"
      ]
     },
     "metadata": {
      "needs_background": "light"
     },
     "output_type": "display_data"
    }
   ],
   "source": [
    "plt.scatter(data['OverallQual'], data['SalePrice'])\n",
    "plt.show()"
   ]
  },
  {
   "cell_type": "code",
   "execution_count": 11,
   "metadata": {},
   "outputs": [
    {
     "data": {
      "image/png": "[encoded data removed]",
      "text/plain": [
       "<Figure size 432x288 with 1 Axes>"
      ]
     },
     "metadata": {
      "needs_background": "light"
     },
     "output_type": "display_data"
    }
   ],
   "source": [
    "plt.scatter(data['totalsf'], data['SalePrice'])\n",
    "plt.show()"
   ]
  },
  {
   "cell_type": "code",
   "execution_count": 12,
   "metadata": {},
   "outputs": [
    {
     "data": {
      "image/png": "[encoded data removed]",
      "text/plain": [
       "<Figure size 432x288 with 1 Axes>"
      ]
     },
     "metadata": {
      "needs_background": "light"
     },
     "output_type": "display_data"
    }
   ],
   "source": [
    "plt.scatter(data['ExterQual'], data['SalePrice'])\n",
    "plt.show()"
   ]
  },
  {
   "cell_type": "code",
   "execution_count": 13,
   "metadata": {},
   "outputs": [
    {
     "data": {
      "image/png": "[encoded data removed]",
      "text/plain": [
       "<Figure size 432x288 with 1 Axes>"
      ]
     },
     "metadata": {
      "needs_background": "light"
     },
     "output_type": "display_data"
    }
   ],
   "source": [
    "plt.scatter(data['GarageArea'], data['SalePrice'])\n",
    "plt.show()"
   ]
  },
  {
   "cell_type": "code",
   "execution_count": 14,
   "metadata": {},
   "outputs": [
    {
     "data": {
      "image/png": "[encoded data removed]",
      "text/plain": [
       "<Figure size 432x288 with 1 Axes>"
      ]
     },
     "metadata": {
      "needs_background": "light"
     },
     "output_type": "display_data"
    }
   ],
   "source": [
    "plt.bar(data['ExterQual'], data['SalePrice'])\n",
    "plt.show()"
   ]
  },
  {
   "cell_type": "code",
   "execution_count": 15,
   "metadata": {},
   "outputs": [
    {
     "data": {
      "image/png": "[encoded data removed]",
      "text/plain": [
       "<Figure size 432x288 with 1 Axes>"
      ]
     },
     "metadata": {
      "needs_background": "light"
     },
     "output_type": "display_data"
    }
   ],
   "source": [
    "plt.bar(data['KitchenQual'], data['SalePrice'])\n",
    "plt.show()"
   ]
  },
  {
   "cell_type": "code",
   "execution_count": 16,
   "metadata": {},
   "outputs": [],
   "source": [
    "\n",
    "list_variables_x = list(data[['OverallQual', 'totalsf', 'GrLivArea', 'GarageCars', 'ExterQual', 'GarageArea', 'TotalBsmtSF', '1stFlrSF',\\\n",
    "                       'KitchenQual', 'FullBath', 'TotRmsAbvGrd']])\n",
    "\n",
    "x= data[['OverallQual', 'totalsf', 'GrLivArea', 'GarageCars', 'ExterQual', 'GarageArea', 'TotalBsmtSF', '1stFlrSF',\\\n",
    "                       'KitchenQual', 'FullBath', 'TotRmsAbvGrd']]\n",
    "\n",
    "y_var = data['SalePrice']"
   ]
  },
  {
   "cell_type": "code",
   "execution_count": 24,
   "metadata": {},
   "outputs": [
    {
     "name": "stdout",
     "output_type": "stream",
     "text": [
      "Collecting statsmodels\n",
      "  Downloading statsmodels-0.11.1-cp38-cp38-macosx_10_13_x86_64.whl (8.5 MB)\n",
      "\u001b[K     |████████████████████████████████| 8.5 MB 5.1 MB/s eta 0:00:01\n",
      "\u001b[?25hRequirement already satisfied: scipy>=1.0 in /usr/local/Cellar/jupyterlab/2.1.1/libexec/lib/python3.8/site-packages (from statsmodels) (1.4.1)\n",
      "Requirement already satisfied: pandas>=0.21 in /usr/local/Cellar/jupyterlab/2.1.1/libexec/lib/python3.8/site-packages (from statsmodels) (1.0.3)\n",
      "Requirement already satisfied: numpy>=1.14 in /usr/local/Cellar/jupyterlab/2.1.1/libexec/lib/python3.8/site-packages (from statsmodels) (1.18.3)\n",
      "Collecting patsy>=0.5\n",
      "  Using cached patsy-0.5.1-py2.py3-none-any.whl (231 kB)\n",
      "Requirement already satisfied: pytz>=2017.2 in /usr/local/Cellar/jupyterlab/2.1.1/libexec/lib/python3.8/site-packages (from pandas>=0.21->statsmodels) (2020.1)\n",
      "Requirement already satisfied: python-dateutil>=2.6.1 in /usr/local/Cellar/jupyterlab/2.1.1/libexec/lib/python3.8/site-packages (from pandas>=0.21->statsmodels) (2.8.1)\n",
      "Requirement already satisfied: six in /usr/local/Cellar/jupyterlab/2.1.1/libexec/lib/python3.8/site-packages (from patsy>=0.5->statsmodels) (1.14.0)\n",
      "Installing collected packages: patsy, statsmodels\n",
      "Successfully installed patsy-0.5.1 statsmodels-0.11.1\n",
      "\u001b[33mWARNING: You are using pip version 20.0.2; however, version 20.1 is available.\n",
      "You should consider upgrading via the '/usr/local/Cellar/jupyterlab/2.1.1/libexec/bin/python3.8 -m pip install --upgrade pip' command.\u001b[0m\n"
     ]
    }
   ],
   "source": [
    "!{sys.executable} -m pip install statsmodels"
   ]
  },
  {
   "cell_type": "code",
   "execution_count": 26,
   "metadata": {},
   "outputs": [],
   "source": [
    "import statsmodels.api as sm"
   ]
  },
  {
   "cell_type": "code",
   "execution_count": 27,
   "metadata": {},
   "outputs": [
    {
     "name": "stdout",
     "output_type": "stream",
     "text": [
      "['OverallQual', 'totalsf', 'GarageCars', 'ExterQual', 'TotalBsmtSF', '1stFlrSF', 'KitchenQual']\n"
     ]
    }
   ],
   "source": [
    "x_1 = sm.add_constant((x))\n",
    "model = sm.OLS(y_var, x_1).fit()\n",
    "\n",
    "cols = list(x.columns)\n",
    "pmax = 1\n",
    "while (len(cols) > 0):\n",
    "    p = []\n",
    "    X_1 = x[cols]\n",
    "    X_1 = sm.add_constant(X_1)\n",
    "    model = sm.OLS(y_var, X_1).fit()\n",
    "    p = pd.Series(model.pvalues.values[1:], index = cols)\n",
    "    pmax = max(p)\n",
    "    feature_with_p_max = p.idxmax()\n",
    "    if(pmax>0.05):\n",
    "        cols.remove(feature_with_p_max)\n",
    "    else:\n",
    "        break\n",
    "\n",
    "selected_features_be = cols\n",
    "print(selected_features_be)"
   ]
  },
  {
   "cell_type": "code",
   "execution_count": 29,
   "metadata": {},
   "outputs": [],
   "source": [
    "#So, we now know that in terms of signifigance, we can use these variables. "
   ]
  },
  {
   "cell_type": "code",
   "execution_count": null,
   "metadata": {},
   "outputs": [],
   "source": []
  }
 ],
 "metadata": {
  "kernelspec": {
   "display_name": "Python 3",
   "language": "python",
   "name": "python3"
  },
  "language_info": {
   "codemirror_mode": {
    "name": "ipython",
    "version": 3
   },
   "file_extension": ".py",
   "mimetype": "text/x-python",
   "name": "python",
   "nbconvert_exporter": "python",
   "pygments_lexer": "ipython3",
   "version": "3.8.2"
  }
 },
 "nbformat": 4,
 "nbformat_minor": 4
}
