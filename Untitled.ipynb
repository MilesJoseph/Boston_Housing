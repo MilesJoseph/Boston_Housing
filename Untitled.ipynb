{
 "cells": [
  {
   "cell_type": "code",
   "execution_count": 1,
   "metadata": {},
   "outputs": [
    {
     "name": "stdout",
     "output_type": "stream",
     "text": [
      "\u001b[31mERROR: Could not find a version that satisfies the requirement texlive-xetex (from versions: none)\u001b[0m\n",
      "\u001b[31mERROR: No matching distribution found for texlive-xetex\u001b[0m\n",
      "\u001b[33mWARNING: You are using pip version 20.0.2; however, version 20.1.1 is available.\n",
      "You should consider upgrading via the '/usr/local/Cellar/jupyterlab/2.1.1/libexec/bin/python3.8 -m pip install --upgrade pip' command.\u001b[0m\n",
      "Note: you may need to restart the kernel to use updated packages.\n"
     ]
    }
   ],
   "source": [
    "pip install texlive-xetex"
   ]
  },
  {
   "cell_type": "code",
   "execution_count": 2,
   "metadata": {},
   "outputs": [
    {
     "ename": "SyntaxError",
     "evalue": "invalid syntax (<ipython-input-2-2331a7fda24c>, line 1)",
     "output_type": "error",
     "traceback": [
      "\u001b[0;36m  File \u001b[0;32m\"<ipython-input-2-2331a7fda24c>\"\u001b[0;36m, line \u001b[0;32m1\u001b[0m\n\u001b[0;31m    jupyter nbextension install --py latex_envs [--user|--sys-prefix|--system]\u001b[0m\n\u001b[0m            ^\u001b[0m\n\u001b[0;31mSyntaxError\u001b[0m\u001b[0;31m:\u001b[0m invalid syntax\n"
     ]
    }
   ],
   "source": [
    "jupyter nbextension install --py latex_envs [--user|--sys-prefix|--system]\n"
   ]
  },
  {
   "cell_type": "code",
   "execution_count": 4,
   "metadata": {},
   "outputs": [
    {
     "name": "stdout",
     "output_type": "stream",
     "text": [
      "Requirement already satisfied: nbconvert in /usr/local/Cellar/jupyterlab/2.1.1/libexec/lib/python3.8/site-packages (5.6.1)\n",
      "Requirement already satisfied: mistune<2,>=0.8.1 in /usr/local/Cellar/jupyterlab/2.1.1/libexec/lib/python3.8/site-packages (from nbconvert) (0.8.4)\n",
      "Requirement already satisfied: jinja2>=2.4 in /usr/local/Cellar/jupyterlab/2.1.1/libexec/lib/python3.8/site-packages (from nbconvert) (2.11.2)\n",
      "Requirement already satisfied: pygments in /usr/local/Cellar/jupyterlab/2.1.1/libexec/lib/python3.8/site-packages (from nbconvert) (2.6.1)\n",
      "Requirement already satisfied: traitlets>=4.2 in /usr/local/Cellar/jupyterlab/2.1.1/libexec/lib/python3.8/site-packages (from nbconvert) (4.3.3)\n",
      "Requirement already satisfied: jupyter_core in /usr/local/Cellar/jupyterlab/2.1.1/libexec/lib/python3.8/site-packages (from nbconvert) (4.6.3)\n",
      "Requirement already satisfied: nbformat>=4.4 in /usr/local/Cellar/jupyterlab/2.1.1/libexec/lib/python3.8/site-packages (from nbconvert) (5.0.6)\n",
      "Requirement already satisfied: entrypoints>=0.2.2 in /usr/local/Cellar/jupyterlab/2.1.1/libexec/lib/python3.8/site-packages (from nbconvert) (0.3)\n",
      "Requirement already satisfied: bleach in /usr/local/Cellar/jupyterlab/2.1.1/libexec/lib/python3.8/site-packages (from nbconvert) (3.1.4)\n",
      "Requirement already satisfied: pandocfilters>=1.4.1 in /usr/local/Cellar/jupyterlab/2.1.1/libexec/lib/python3.8/site-packages (from nbconvert) (1.4.2)\n",
      "Requirement already satisfied: testpath in /usr/local/Cellar/jupyterlab/2.1.1/libexec/lib/python3.8/site-packages (from nbconvert) (0.4.4)\n",
      "Requirement already satisfied: defusedxml in /usr/local/Cellar/jupyterlab/2.1.1/libexec/lib/python3.8/site-packages (from nbconvert) (0.6.0)\n",
      "Requirement already satisfied: MarkupSafe>=0.23 in /usr/local/Cellar/jupyterlab/2.1.1/libexec/lib/python3.8/site-packages (from jinja2>=2.4->nbconvert) (1.1.1)\n",
      "Requirement already satisfied: ipython_genutils in /usr/local/Cellar/jupyterlab/2.1.1/libexec/lib/python3.8/site-packages (from traitlets>=4.2->nbconvert) (0.2.0)\n",
      "Requirement already satisfied: six in /usr/local/Cellar/jupyterlab/2.1.1/libexec/lib/python3.8/site-packages (from traitlets>=4.2->nbconvert) (1.14.0)\n",
      "Requirement already satisfied: decorator in /usr/local/Cellar/jupyterlab/2.1.1/libexec/lib/python3.8/site-packages (from traitlets>=4.2->nbconvert) (4.4.2)\n",
      "Requirement already satisfied: jsonschema!=2.5.0,>=2.4 in /usr/local/Cellar/jupyterlab/2.1.1/libexec/lib/python3.8/site-packages (from nbformat>=4.4->nbconvert) (3.2.0)\n",
      "Requirement already satisfied: webencodings in /usr/local/Cellar/jupyterlab/2.1.1/libexec/lib/python3.8/site-packages (from bleach->nbconvert) (0.5.1)\n",
      "Requirement already satisfied: pyrsistent>=0.14.0 in /usr/local/Cellar/jupyterlab/2.1.1/libexec/lib/python3.8/site-packages (from jsonschema!=2.5.0,>=2.4->nbformat>=4.4->nbconvert) (0.16.0)\n",
      "Requirement already satisfied: attrs>=17.4.0 in /usr/local/Cellar/jupyterlab/2.1.1/libexec/lib/python3.8/site-packages (from jsonschema!=2.5.0,>=2.4->nbformat>=4.4->nbconvert) (19.3.0)\n",
      "Requirement already satisfied: setuptools in /usr/local/Cellar/jupyterlab/2.1.1/libexec/lib/python3.8/site-packages (from jsonschema!=2.5.0,>=2.4->nbformat>=4.4->nbconvert) (46.1.3)\n",
      "\u001b[33mWARNING: You are using pip version 20.0.2; however, version 20.1.1 is available.\n",
      "You should consider upgrading via the '/usr/local/Cellar/jupyterlab/2.1.1/libexec/bin/python3.8 -m pip install --upgrade pip' command.\u001b[0m\n",
      "Note: you may need to restart the kernel to use updated packages.\n"
     ]
    }
   ],
   "source": [
    "pip install nbconvert"
   ]
  },
  {
   "cell_type": "code",
   "execution_count": 5,
   "metadata": {},
   "outputs": [
    {
     "name": "stdout",
     "output_type": "stream",
     "text": [
      "Collecting pandoc\n",
      "  Downloading pandoc-1.0.2.tar.gz (488 kB)\n",
      "\u001b[K     |████████████████████████████████| 488 kB 1.6 MB/s eta 0:00:01\n",
      "\u001b[?25hCollecting ply\n",
      "  Downloading ply-3.11-py2.py3-none-any.whl (49 kB)\n",
      "\u001b[K     |████████████████████████████████| 49 kB 11.1 MB/s eta 0:00:01\n",
      "\u001b[?25hBuilding wheels for collected packages: pandoc\n",
      "  Building wheel for pandoc (setup.py) ... \u001b[?25ldone\n",
      "\u001b[?25h  Created wheel for pandoc: filename=pandoc-1.0.2-py3-none-any.whl size=19991 sha256=b667dcfac5686127987644836ed07d7efeab4a6878ae2397dcc0ad769cf14440\n",
      "  Stored in directory: /Users/milesklingenberg/Library/Caches/pip/wheels/a4/b9/34/3e82b9444401c2199d721240a388499a262d2e2ad37f6f3fa7\n",
      "Successfully built pandoc\n",
      "Installing collected packages: ply, pandoc\n",
      "Successfully installed pandoc-1.0.2 ply-3.11\n",
      "\u001b[33mWARNING: You are using pip version 20.0.2; however, version 20.1.1 is available.\n",
      "You should consider upgrading via the '/usr/local/Cellar/jupyterlab/2.1.1/libexec/bin/python3.8 -m pip install --upgrade pip' command.\u001b[0m\n",
      "Note: you may need to restart the kernel to use updated packages.\n"
     ]
    }
   ],
   "source": [
    "pip install pandoc"
   ]
  },
  {
   "cell_type": "code",
   "execution_count": 8,
   "metadata": {},
   "outputs": [
    {
     "name": "stdout",
     "output_type": "stream",
     "text": [
      "\u001b[31mERROR: Could not find a version that satisfies the requirement MacTex (from versions: none)\u001b[0m\n",
      "\u001b[31mERROR: No matching distribution found for MacTex\u001b[0m\n",
      "\u001b[33mWARNING: You are using pip version 20.0.2; however, version 20.1.1 is available.\n",
      "You should consider upgrading via the '/usr/local/Cellar/jupyterlab/2.1.1/libexec/bin/python3.8 -m pip install --upgrade pip' command.\u001b[0m\n",
      "Note: you may need to restart the kernel to use updated packages.\n"
     ]
    }
   ],
   "source": [
    "pip install MacTex"
   ]
  },
  {
   "cell_type": "code",
   "execution_count": 10,
   "metadata": {},
   "outputs": [
    {
     "name": "stdout",
     "output_type": "stream",
     "text": [
      "Collecting git+https://github.com/sat28/githubcommit.git\n",
      "  Cloning https://github.com/sat28/githubcommit.git to /private/var/folders/0m/22gm2qdj45j0yw3p58x2dl000000gn/T/pip-req-build-iuyn5m1i\n",
      "  Running command git clone -q https://github.com/sat28/githubcommit.git /private/var/folders/0m/22gm2qdj45j0yw3p58x2dl000000gn/T/pip-req-build-iuyn5m1i\n",
      "Collecting psutil\n",
      "  Using cached psutil-5.7.0.tar.gz (449 kB)\n",
      "Requirement already satisfied: notebook in /usr/local/Cellar/jupyterlab/2.1.1/libexec/lib/python3.8/site-packages (from githubcommit==0.1.0) (6.0.3)\n",
      "Collecting gitpython\n",
      "  Downloading GitPython-3.1.2-py3-none-any.whl (451 kB)\n",
      "\u001b[K     |████████████████████████████████| 451 kB 1.9 MB/s eta 0:00:01\n",
      "\u001b[?25hRequirement already satisfied: jinja2 in /usr/local/Cellar/jupyterlab/2.1.1/libexec/lib/python3.8/site-packages (from notebook->githubcommit==0.1.0) (2.11.2)\n",
      "Requirement already satisfied: tornado>=5.0 in /usr/local/Cellar/jupyterlab/2.1.1/libexec/lib/python3.8/site-packages (from notebook->githubcommit==0.1.0) (6.0.4)\n",
      "Requirement already satisfied: pyzmq>=17 in /usr/local/Cellar/jupyterlab/2.1.1/libexec/lib/python3.8/site-packages (from notebook->githubcommit==0.1.0) (19.0.0)\n",
      "Requirement already satisfied: ipython_genutils in /usr/local/Cellar/jupyterlab/2.1.1/libexec/lib/python3.8/site-packages (from notebook->githubcommit==0.1.0) (0.2.0)\n",
      "Requirement already satisfied: traitlets>=4.2.1 in /usr/local/Cellar/jupyterlab/2.1.1/libexec/lib/python3.8/site-packages (from notebook->githubcommit==0.1.0) (4.3.3)\n",
      "Requirement already satisfied: jupyter_core>=4.6.1 in /usr/local/Cellar/jupyterlab/2.1.1/libexec/lib/python3.8/site-packages (from notebook->githubcommit==0.1.0) (4.6.3)\n",
      "Requirement already satisfied: jupyter_client>=5.3.4 in /usr/local/Cellar/jupyterlab/2.1.1/libexec/lib/python3.8/site-packages (from notebook->githubcommit==0.1.0) (6.1.3)\n",
      "Requirement already satisfied: nbformat in /usr/local/Cellar/jupyterlab/2.1.1/libexec/lib/python3.8/site-packages (from notebook->githubcommit==0.1.0) (5.0.6)\n",
      "Requirement already satisfied: nbconvert in /usr/local/Cellar/jupyterlab/2.1.1/libexec/lib/python3.8/site-packages (from notebook->githubcommit==0.1.0) (5.6.1)\n",
      "Requirement already satisfied: ipykernel in /usr/local/Cellar/jupyterlab/2.1.1/libexec/lib/python3.8/site-packages (from notebook->githubcommit==0.1.0) (5.2.1)\n",
      "Requirement already satisfied: Send2Trash in /usr/local/Cellar/jupyterlab/2.1.1/libexec/lib/python3.8/site-packages (from notebook->githubcommit==0.1.0) (1.5.0)\n",
      "Requirement already satisfied: terminado>=0.8.1 in /usr/local/Cellar/jupyterlab/2.1.1/libexec/lib/python3.8/site-packages (from notebook->githubcommit==0.1.0) (0.8.3)\n",
      "Requirement already satisfied: prometheus_client in /usr/local/Cellar/jupyterlab/2.1.1/libexec/lib/python3.8/site-packages (from notebook->githubcommit==0.1.0) (0.7.1)\n",
      "Collecting gitdb<5,>=4.0.1\n",
      "  Downloading gitdb-4.0.5-py3-none-any.whl (63 kB)\n",
      "\u001b[K     |████████████████████████████████| 63 kB 3.7 MB/s eta 0:00:01\n",
      "\u001b[?25hRequirement already satisfied: MarkupSafe>=0.23 in /usr/local/Cellar/jupyterlab/2.1.1/libexec/lib/python3.8/site-packages (from jinja2->notebook->githubcommit==0.1.0) (1.1.1)\n",
      "Requirement already satisfied: six in /usr/local/Cellar/jupyterlab/2.1.1/libexec/lib/python3.8/site-packages (from traitlets>=4.2.1->notebook->githubcommit==0.1.0) (1.14.0)\n",
      "Requirement already satisfied: decorator in /usr/local/Cellar/jupyterlab/2.1.1/libexec/lib/python3.8/site-packages (from traitlets>=4.2.1->notebook->githubcommit==0.1.0) (4.4.2)\n",
      "Requirement already satisfied: python-dateutil>=2.1 in /usr/local/Cellar/jupyterlab/2.1.1/libexec/lib/python3.8/site-packages (from jupyter_client>=5.3.4->notebook->githubcommit==0.1.0) (2.8.1)\n",
      "Requirement already satisfied: jsonschema!=2.5.0,>=2.4 in /usr/local/Cellar/jupyterlab/2.1.1/libexec/lib/python3.8/site-packages (from nbformat->notebook->githubcommit==0.1.0) (3.2.0)\n",
      "Requirement already satisfied: mistune<2,>=0.8.1 in /usr/local/Cellar/jupyterlab/2.1.1/libexec/lib/python3.8/site-packages (from nbconvert->notebook->githubcommit==0.1.0) (0.8.4)\n",
      "Requirement already satisfied: pygments in /usr/local/Cellar/jupyterlab/2.1.1/libexec/lib/python3.8/site-packages (from nbconvert->notebook->githubcommit==0.1.0) (2.6.1)\n",
      "Requirement already satisfied: entrypoints>=0.2.2 in /usr/local/Cellar/jupyterlab/2.1.1/libexec/lib/python3.8/site-packages (from nbconvert->notebook->githubcommit==0.1.0) (0.3)\n",
      "Requirement already satisfied: bleach in /usr/local/Cellar/jupyterlab/2.1.1/libexec/lib/python3.8/site-packages (from nbconvert->notebook->githubcommit==0.1.0) (3.1.4)\n",
      "Requirement already satisfied: pandocfilters>=1.4.1 in /usr/local/Cellar/jupyterlab/2.1.1/libexec/lib/python3.8/site-packages (from nbconvert->notebook->githubcommit==0.1.0) (1.4.2)\n",
      "Requirement already satisfied: testpath in /usr/local/Cellar/jupyterlab/2.1.1/libexec/lib/python3.8/site-packages (from nbconvert->notebook->githubcommit==0.1.0) (0.4.4)\n",
      "Requirement already satisfied: defusedxml in /usr/local/Cellar/jupyterlab/2.1.1/libexec/lib/python3.8/site-packages (from nbconvert->notebook->githubcommit==0.1.0) (0.6.0)\n",
      "Requirement already satisfied: appnope; platform_system == \"Darwin\" in /usr/local/Cellar/jupyterlab/2.1.1/libexec/lib/python3.8/site-packages (from ipykernel->notebook->githubcommit==0.1.0) (0.1.0)\n",
      "Requirement already satisfied: ipython>=5.0.0 in /usr/local/Cellar/jupyterlab/2.1.1/libexec/lib/python3.8/site-packages (from ipykernel->notebook->githubcommit==0.1.0) (7.13.0)\n",
      "Requirement already satisfied: ptyprocess; os_name != \"nt\" in /usr/local/Cellar/jupyterlab/2.1.1/libexec/lib/python3.8/site-packages (from terminado>=0.8.1->notebook->githubcommit==0.1.0) (0.6.0)\n",
      "Collecting smmap<4,>=3.0.1\n",
      "  Downloading smmap-3.0.4-py2.py3-none-any.whl (25 kB)\n",
      "Requirement already satisfied: attrs>=17.4.0 in /usr/local/Cellar/jupyterlab/2.1.1/libexec/lib/python3.8/site-packages (from jsonschema!=2.5.0,>=2.4->nbformat->notebook->githubcommit==0.1.0) (19.3.0)\n",
      "Requirement already satisfied: pyrsistent>=0.14.0 in /usr/local/Cellar/jupyterlab/2.1.1/libexec/lib/python3.8/site-packages (from jsonschema!=2.5.0,>=2.4->nbformat->notebook->githubcommit==0.1.0) (0.16.0)\n",
      "Requirement already satisfied: setuptools in /usr/local/Cellar/jupyterlab/2.1.1/libexec/lib/python3.8/site-packages (from jsonschema!=2.5.0,>=2.4->nbformat->notebook->githubcommit==0.1.0) (46.1.3)\n",
      "Requirement already satisfied: webencodings in /usr/local/Cellar/jupyterlab/2.1.1/libexec/lib/python3.8/site-packages (from bleach->nbconvert->notebook->githubcommit==0.1.0) (0.5.1)\n",
      "Requirement already satisfied: jedi>=0.10 in /usr/local/Cellar/jupyterlab/2.1.1/libexec/lib/python3.8/site-packages (from ipython>=5.0.0->ipykernel->notebook->githubcommit==0.1.0) (0.17.0)\n",
      "Requirement already satisfied: pickleshare in /usr/local/Cellar/jupyterlab/2.1.1/libexec/lib/python3.8/site-packages (from ipython>=5.0.0->ipykernel->notebook->githubcommit==0.1.0) (0.7.5)\n",
      "Requirement already satisfied: prompt_toolkit!=3.0.0,!=3.0.1,<3.1.0,>=2.0.0 in /usr/local/Cellar/jupyterlab/2.1.1/libexec/lib/python3.8/site-packages (from ipython>=5.0.0->ipykernel->notebook->githubcommit==0.1.0) (3.0.5)\n",
      "Requirement already satisfied: backcall in /usr/local/Cellar/jupyterlab/2.1.1/libexec/lib/python3.8/site-packages (from ipython>=5.0.0->ipykernel->notebook->githubcommit==0.1.0) (0.1.0)\n",
      "Requirement already satisfied: pexpect in /usr/local/Cellar/jupyterlab/2.1.1/libexec/lib/python3.8/site-packages (from ipython>=5.0.0->ipykernel->notebook->githubcommit==0.1.0) (4.8.0)\n",
      "Requirement already satisfied: parso>=0.7.0 in /usr/local/Cellar/jupyterlab/2.1.1/libexec/lib/python3.8/site-packages (from jedi>=0.10->ipython>=5.0.0->ipykernel->notebook->githubcommit==0.1.0) (0.7.0)\n",
      "Requirement already satisfied: wcwidth in /usr/local/Cellar/jupyterlab/2.1.1/libexec/lib/python3.8/site-packages (from prompt_toolkit!=3.0.0,!=3.0.1,<3.1.0,>=2.0.0->ipython>=5.0.0->ipykernel->notebook->githubcommit==0.1.0) (0.1.9)\n",
      "Building wheels for collected packages: githubcommit, psutil\n",
      "  Building wheel for githubcommit (setup.py) ... \u001b[?25ldone\n",
      "\u001b[?25h  Created wheel for githubcommit: filename=githubcommit-0.1.0-py3-none-any.whl size=5805 sha256=af50a2a85d12924e9d98dce7b381c62cb25a6ca05386c0c0a1d88bccd5867e40\n",
      "  Stored in directory: /private/var/folders/0m/22gm2qdj45j0yw3p58x2dl000000gn/T/pip-ephem-wheel-cache-fmjmyin2/wheels/8d/ed/0c/00489af68dd1b4b5c2e44c4dec5750b4c53129f94846100eee\n"
     ]
    },
    {
     "name": "stdout",
     "output_type": "stream",
     "text": [
      "  Building wheel for psutil (setup.py) ... \u001b[?25ldone\n",
      "\u001b[?25h  Created wheel for psutil: filename=psutil-5.7.0-cp38-cp38-macosx_10_15_x86_64.whl size=226926 sha256=78f79b445f9ed34079925f67bb328d64dc1af1f36cb57aed946374de47a0bf11\n",
      "  Stored in directory: /Users/milesklingenberg/Library/Caches/pip/wheels/90/c9/b6/04665702b01dbd9ee92a05e834b627948ed01cdd482e6a78e1\n",
      "Successfully built githubcommit psutil\n",
      "Installing collected packages: psutil, smmap, gitdb, gitpython, githubcommit\n",
      "Successfully installed gitdb-4.0.5 githubcommit-0.1.0 gitpython-3.1.2 psutil-5.7.0 smmap-3.0.4\n",
      "\u001b[33mWARNING: You are using pip version 20.0.2; however, version 20.1.1 is available.\n",
      "You should consider upgrading via the '/usr/local/Cellar/jupyterlab/2.1.1/libexec/bin/python3.8 -m pip install --upgrade pip' command.\u001b[0m\n",
      "Note: you may need to restart the kernel to use updated packages.\n"
     ]
    }
   ],
   "source": [
    "pip install git+https://github.com/sat28/githubcommit.git\n"
   ]
  },
  {
   "cell_type": "code",
   "execution_count": 11,
   "metadata": {},
   "outputs": [
    {
     "ename": "SyntaxError",
     "evalue": "invalid syntax (<ipython-input-11-41cfe51d2ded>, line 1)",
     "output_type": "error",
     "traceback": [
      "\u001b[0;36m  File \u001b[0;32m\"<ipython-input-11-41cfe51d2ded>\"\u001b[0;36m, line \u001b[0;32m1\u001b[0m\n\u001b[0;31m    jupyter serverextension enable --py githubcommit\u001b[0m\n\u001b[0m            ^\u001b[0m\n\u001b[0;31mSyntaxError\u001b[0m\u001b[0;31m:\u001b[0m invalid syntax\n"
     ]
    }
   ],
   "source": []
  },
  {
   "cell_type": "code",
   "execution_count": null,
   "metadata": {},
   "outputs": [],
   "source": []
  }
 ],
 "metadata": {
  "kernelspec": {
   "display_name": "Python 3",
   "language": "python",
   "name": "python3"
  },
  "language_info": {
   "codemirror_mode": {
    "name": "ipython",
    "version": 3
   },
   "file_extension": ".py",
   "mimetype": "text/x-python",
   "name": "python",
   "nbconvert_exporter": "python",
   "pygments_lexer": "ipython3",
   "version": "3.8.2"
  }
 },
 "nbformat": 4,
 "nbformat_minor": 4
}
