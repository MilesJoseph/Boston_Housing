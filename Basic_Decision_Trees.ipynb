{
 "cells": [
  {
   "cell_type": "code",
   "execution_count": 2,
   "metadata": {
    "lines_to_next_cell": 2
   },
   "outputs": [],
   "source": [
    "import numpy as np\n",
    "from sklearn.ensemble import RandomForestClassifier\n",
    "from sklearn.feature_selection import SelectFromModel\n",
    "from sklearn.metrics import accuracy_score\n",
    "import pandas as pd\n",
    "from sklearn.tree import DecisionTreeClassifier, export_graphviz"
   ]
  },
  {
   "cell_type": "code",
   "execution_count": 3,
   "metadata": {
    "lines_to_next_cell": 2
   },
   "outputs": [],
   "source": [
    "pd.options.display.max_columns = 90"
   ]
  },
  {
   "cell_type": "code",
   "execution_count": 4,
   "metadata": {},
   "outputs": [],
   "source": [
    "CAT_DTYPES={\"Id\": \"int64\", \"MSSubClass\": \"int64\", \"MSZoning\": \"category\", \"Street\": \"category\",\n",
    "            \"Alley\": \"category\", \"LotShape\": \"category\", \"LandContour\": \"category\", \"Utilities\": \"category\",\n",
    "            \"LotConfig\": \"category\", \"LandSlope\":\"category\", \"Neighborhood\": \"category\", \"Condition1\": \"category\",\n",
    "            \"Condition2\": \"category\", \"BldgType\": \"category\", \"HouseStyle\": \"category\", \"RoofStyle\": \"category\",\n",
    "            \"RoofMatl\": \"category\", \"Exterior1st\": \"category\", \"Exterior2nd\":\"category\", \"MasVnrType\": \"category\", \"ExterQual\": \"category\",\n",
    "            \"ExterCond\": \"category\", \"Foundation\":\"category\", \"BsmtQual\": \"category\", \"BsmtCond\": \"category\", \"BsmtExposure\":\"category\", \"BsmtFinType1\":\"category\",\n",
    "            \"BsmtFinType2\":\"category\",\"Heating\":\"category\", \"HeatingQC\": \"category\", \"CentralAir\": \"category\", \"Electrical\": \"category\",\n",
    "            \"KitchenQual\":\"category\", \"Functional\": \"category\", \"FireplaceQu\": \"category\", \"GarageType\": \"category\", \"GarageFinish\":\"category\",\n",
    "            \"GarageQual\": \"category\", \"GarageCond\": \"category\", \"PavedDrive\": \"category\", \"PoolQC\": \"category\", \"Fence\": \"category\",\n",
    "            \"MiscFeature\": \"category\", \"SaleType\": \"category\", \"SaleCondition\": \"category\"}"
   ]
  },
  {
   "cell_type": "code",
   "execution_count": 5,
   "metadata": {
    "lines_to_next_cell": 1
   },
   "outputs": [],
   "source": [
    "def create_dt(is_train=True):\n",
    "    \"\"\"\n",
    "    This function just reads in the data and cleans the data a little bit and returns a dataframe based\n",
    "    on the read data.\n",
    "    \"\"\"\n",
    "    train = pd.read_csv(\"/Users/milesklingenberg/Documents/UWMSBA/590/Data/train_house-1.csv\", dtype=CAT_DTYPES)\n",
    "    train = pd.DataFrame(train)\n",
    "    for col, col_dtype in CAT_DTYPES.items():\n",
    "        if col_dtype == \"category\":\n",
    "            train[col] = train[col].astype('category').cat.codes\n",
    "\n",
    "    #drop_columns = ['']\n",
    "    #was going to drop columns\n",
    "\n",
    "    dt = train\n",
    "\n",
    "    return dt"
   ]
  },
  {
   "cell_type": "code",
   "execution_count": 27,
   "metadata": {},
   "outputs": [],
   "source": [
    "train_df = create_dt(is_train=True)"
   ]
  },
  {
   "cell_type": "code",
   "execution_count": 28,
   "metadata": {
    "lines_to_next_cell": 2
   },
   "outputs": [],
   "source": [
    "train_df['LotFrontage'] = train_df['LotFrontage'].fillna(0)\n",
    "train_df['MasVnrArea'] = train_df['MasVnrArea'].fillna(0)\n",
    "train_df['GarageYrBlt'] = train_df['GarageYrBlt'].fillna(0)"
   ]
  },
  {
   "cell_type": "markdown",
   "metadata": {},
   "source": [
    "It turned out it was just an issue for float, thankfully, something to figure out in the future."
   ]
  },
  {
   "cell_type": "markdown",
   "metadata": {
    "lines_to_next_cell": 2
   },
   "source": [
    "Just to mention here, I am using a random forest classifier to figure out which variables to select. If I were doing this\n",
    "in the future I would probably do a linear recursive feauture engineering, but since we are doing decision trees I will\n",
    "stick to a tree based approach."
   ]
  },
  {
   "cell_type": "markdown",
   "metadata": {
    "lines_to_next_cell": 2
   },
   "source": [
    "Setting up the model here for recursive."
   ]
  },
  {
   "cell_type": "code",
   "execution_count": 29,
   "metadata": {},
   "outputs": [],
   "source": [
    "clf = RandomForestClassifier(n_estimators = 1000, random_state=0, n_jobs=-1)"
   ]
  },
  {
   "cell_type": "code",
   "execution_count": 30,
   "metadata": {},
   "outputs": [],
   "source": [
    "x = train_df.iloc[:, 0:80]\n",
    "y = train_df[\"SalePrice\"]"
   ]
  },
  {
   "cell_type": "code",
   "execution_count": 31,
   "metadata": {},
   "outputs": [
    {
     "data": {
      "text/plain": [
       "RandomForestClassifier(bootstrap=True, ccp_alpha=0.0, class_weight=None,\n",
       "                       criterion='gini', max_depth=None, max_features='auto',\n",
       "                       max_leaf_nodes=None, max_samples=None,\n",
       "                       min_impurity_decrease=0.0, min_impurity_split=None,\n",
       "                       min_samples_leaf=1, min_samples_split=2,\n",
       "                       min_weight_fraction_leaf=0.0, n_estimators=1000,\n",
       "                       n_jobs=-1, oob_score=False, random_state=0, verbose=0,\n",
       "                       warm_start=False)"
      ]
     },
     "execution_count": 31,
     "metadata": {},
     "output_type": "execute_result"
    }
   ],
   "source": [
    "clf.fit(x,y)"
   ]
  },
  {
   "cell_type": "code",
   "execution_count": 32,
   "metadata": {},
   "outputs": [],
   "source": [
    "#for feature in zip(list(train_df), clf.feature_importances_):\n",
    "   #print(feature)"
   ]
  },
  {
   "cell_type": "markdown",
   "metadata": {},
   "source": [
    "Then we will want to select the best features, I am not going to read that whole list."
   ]
  },
  {
   "cell_type": "code",
   "execution_count": 33,
   "metadata": {},
   "outputs": [],
   "source": [
    "feat_labels = list(train_df.iloc[:,0:80])\n",
    "clf_features = pd.DataFrame(clf.feature_importances_)\n",
    "feat_labels = pd.DataFrame(feat_labels)"
   ]
  },
  {
   "cell_type": "code",
   "execution_count": 34,
   "metadata": {
    "lines_to_next_cell": 2
   },
   "outputs": [],
   "source": [
    "merged_df = [feat_labels, clf_features]"
   ]
  },
  {
   "cell_type": "markdown",
   "metadata": {},
   "source": [
    "This merged data frame has the list of variables ranked by their gini impurity.\n",
    "I will start by looking at LotArea, GrLivArea, 1stfloor, GarageArea as these have the best gini purity.\n",
    "I will also explore some other options to see if this was incorrect"
   ]
  },
  {
   "cell_type": "code",
   "execution_count": 35,
   "metadata": {},
   "outputs": [],
   "source": [
    "result = pd.concat(merged_df, axis = 1)\n",
    "result.columns = ['feat', 'importance']"
   ]
  },
  {
   "cell_type": "code",
   "execution_count": 36,
   "metadata": {},
   "outputs": [
    {
     "name": "stdout",
     "output_type": "stream",
     "text": [
      "          feat  importance\n",
      "9    Utilities    0.000115\n",
      "5       Street    0.000466\n",
      "72      PoolQC    0.000472\n",
      "71    PoolArea    0.000500\n",
      "14  Condition2    0.001372\n",
      "..         ...         ...\n",
      "62  GarageArea    0.033658\n",
      "43    1stFlrSF    0.034775\n",
      "46   GrLivArea    0.036208\n",
      "4      LotArea    0.036482\n",
      "0           Id    0.038961\n",
      "\n",
      "[80 rows x 2 columns]\n"
     ]
    }
   ],
   "source": [
    "result_1 = result.sort_values(by = 'importance')\n",
    "print(result_1)"
   ]
  },
  {
   "cell_type": "code",
   "execution_count": 37,
   "metadata": {
    "lines_to_next_cell": 2
   },
   "outputs": [
    {
     "data": {
      "text/plain": [
       "DecisionTreeClassifier(ccp_alpha=0.0, class_weight=None, criterion='gini',\n",
       "                       max_depth=None, max_features=None, max_leaf_nodes=None,\n",
       "                       min_impurity_decrease=0.0, min_impurity_split=None,\n",
       "                       min_samples_leaf=1, min_samples_split=20,\n",
       "                       min_weight_fraction_leaf=0.0, presort='deprecated',\n",
       "                       random_state=99, splitter='best')"
      ]
     },
     "execution_count": 37,
     "metadata": {},
     "output_type": "execute_result"
    }
   ],
   "source": [
    "dec_t = DecisionTreeClassifier(min_samples_split = 20, random_state=99)\n",
    "dec_t.fit(x,y)"
   ]
  },
  {
   "cell_type": "code",
   "execution_count": 38,
   "metadata": {},
   "outputs": [],
   "source": [
    "test = pd.read_csv(\"/Users/milesklingenberg/Documents/UWMSBA/590/Data/test_house-1.csv\", dtype = CAT_DTYPES)"
   ]
  },
  {
   "cell_type": "code",
   "execution_count": 39,
   "metadata": {
    "lines_to_next_cell": 2
   },
   "outputs": [],
   "source": [
    "##Okay....this took me a long time to realize... there are spaces in the\n",
    "## column names for the test set... which is why my dtypes are not working\n",
    "test['Lot Area'] = test['Lot Area'].fillna(0)\n",
    "test['Gr Liv Area'] = test['Gr Liv Area'].fillna(0)\n",
    "test['1st Flr SF'] = test['1st Flr SF'].fillna(0)\n",
    "test['Garage Area'] = test['Garage Area'].fillna(0)"
   ]
  },
  {
   "cell_type": "code",
   "execution_count": 40,
   "metadata": {},
   "outputs": [],
   "source": [
    "test_1 = test[['Lot Area', 'Gr Liv Area', '1st Flr SF', 'Garage Area']]\n",
    "train_df_x = train_df[['LotArea', 'GrLivArea', '1stFlrSF', 'GarageArea']]\n",
    "train_df_y = train_df['SalePrice']"
   ]
  },
  {
   "cell_type": "code",
   "execution_count": 41,
   "metadata": {},
   "outputs": [],
   "source": [
    "dec_clipped = DecisionTreeClassifier(min_samples_split = 2, random_state = 99)\n",
    "dec_clipped_fit = dec_clipped.fit(train_df_x, train_df_y)\n",
    "dec_clipped_predict = dec_clipped.predict(test_1)\n",
    "predictions_1_clipped = pd.DataFrame(dec_clipped_predict, columns = ['output'])"
   ]
  },
  {
   "cell_type": "markdown",
   "metadata": {},
   "source": [
    "sklearn has a great way to export trees graphically. "
   ]
  },
  {
   "cell_type": "code",
   "execution_count": 44,
   "metadata": {},
   "outputs": [],
   "source": [
    "from sklearn.externals.six import StringIO\n",
    "from IPython.display import Image\n",
    "from sklearn.tree import export_graphviz\n",
    "import pydotplus"
   ]
  },
  {
   "cell_type": "code",
   "execution_count": 45,
   "metadata": {},
   "outputs": [],
   "source": [
    "dot_data = StringIO()"
   ]
  },
  {
   "cell_type": "code",
   "execution_count": 46,
   "metadata": {},
   "outputs": [],
   "source": [
    "#export_graphviz(dec_clipped_fit, out_file=dot_data,\n",
    "                #filled=True, rounded=True,\n",
    "                #special_characters=True)\n",
    "#graph = pydotplus.graph_from_dot_data(dot_data.getvalue())\n",
    "#Image(graph.create_png())\n",
    "#graph.write_png(\"clipped_dec\")"
   ]
  },
  {
   "cell_type": "markdown",
   "metadata": {},
   "source": [
    "Taking graph out as it takes some time to run.\n",
    "You can see that in hte min number of sample split at each one of my nodes I am allowing a split of 2. Therefore the graph will be quite\n",
    "large and not really helpful for display."
   ]
  },
  {
   "cell_type": "code",
   "execution_count": 47,
   "metadata": {},
   "outputs": [],
   "source": [
    "values = pd.read_excel(\"/Users/milesklingenberg/Documents/UWMSBA/590/Data/Values.xlsx\")"
   ]
  },
  {
   "cell_type": "code",
   "execution_count": 48,
   "metadata": {},
   "outputs": [
    {
     "name": "stdout",
     "output_type": "stream",
     "text": [
      "38407.2192125493\n"
     ]
    }
   ],
   "source": [
    "from sklearn.metrics import mean_squared_error\n",
    "from math import sqrt\n",
    "print(sqrt(mean_squared_error(values['SalePrice'], predictions_1_clipped['output'])))"
   ]
  },
  {
   "cell_type": "markdown",
   "metadata": {},
   "source": [
    "So we get an RMSE of 38,407 for the model that just uses the Random Forest Classifier.\n",
    "THis is not good, but I guesss it depends on min and max....also we are using a decision tree.."
   ]
  },
  {
   "cell_type": "code",
   "execution_count": 49,
   "metadata": {},
   "outputs": [
    {
     "name": "stdout",
     "output_type": "stream",
     "text": [
      "34900\n",
      "755000\n"
     ]
    }
   ],
   "source": [
    "print(min(train_df['SalePrice']))\n",
    "print(max(train_df['SalePrice']))"
   ]
  },
  {
   "cell_type": "markdown",
   "metadata": {},
   "source": [
    "Right, so on a scale of 34900 and max 755000 for data, 38,407 is not really acceptable.\n",
    "Since the sample split in the tree is 2, this means it is really only spliting on itself with\n",
    "an average of the split within the last node."
   ]
  },
  {
   "cell_type": "markdown",
   "metadata": {},
   "source": [
    "It would probably be helpful at this point to look at the data as opposed to random forest classifier."
   ]
  },
  {
   "cell_type": "code",
   "execution_count": 50,
   "metadata": {},
   "outputs": [],
   "source": [
    "import matplotlib.pyplot as plt\n",
    "### I don't see a column for total square feet... am I missing it ?"
   ]
  },
  {
   "cell_type": "code",
   "execution_count": 51,
   "metadata": {},
   "outputs": [],
   "source": [
    "SFTotals = train_df.filter(regex=\"SF\")\n",
    "train_df['totalsf'] = SFTotals.sum(axis=1)"
   ]
  },
  {
   "cell_type": "code",
   "execution_count": 52,
   "metadata": {},
   "outputs": [
    {
     "data": {
      "image/png": "[encoded data removed]",
      "text/plain": [
       "<Figure size 432x288 with 1 Axes>"
      ]
     },
     "metadata": {
      "needs_background": "light"
     },
     "output_type": "display_data"
    }
   ],
   "source": [
    "plt.scatter(train_df['totalsf'], train_df['SalePrice'])\n",
    "plt.show()"
   ]
  },
  {
   "cell_type": "code",
   "execution_count": 53,
   "metadata": {},
   "outputs": [
    {
     "data": {
      "image/png": "[encoded data removed]",
      "text/plain": [
       "<Figure size 432x288 with 1 Axes>"
      ]
     },
     "metadata": {
      "needs_background": "light"
     },
     "output_type": "display_data"
    }
   ],
   "source": [
    "plt.scatter(train_df['YearBuilt'], train_df['SalePrice'])\n",
    "plt.show()"
   ]
  },
  {
   "cell_type": "code",
   "execution_count": 54,
   "metadata": {},
   "outputs": [
    {
     "data": {
      "image/png": "[encoded data removed]",
      "text/plain": [
       "<Figure size 432x288 with 1 Axes>"
      ]
     },
     "metadata": {
      "needs_background": "light"
     },
     "output_type": "display_data"
    }
   ],
   "source": [
    "plt.scatter(train_df['OverallCond'], train_df['SalePrice'])\n",
    "plt.show()"
   ]
  },
  {
   "cell_type": "markdown",
   "metadata": {},
   "source": [
    "Also linear for the most part, exponential."
   ]
  },
  {
   "cell_type": "markdown",
   "metadata": {},
   "source": [
    "plt.scatter(train_df['OverallCond'], train_df['SalePrice'])\n",
    "plt.show()"
   ]
  },
  {
   "cell_type": "code",
   "execution_count": 55,
   "metadata": {},
   "outputs": [
    {
     "name": "stderr",
     "output_type": "stream",
     "text": [
      "No handles with labels found to put in legend.\n"
     ]
    },
    {
     "data": {
      "image/png": "[encoded data removed]",
      "text/plain": [
       "<Figure size 432x288 with 1 Axes>"
      ]
     },
     "metadata": {
      "needs_background": "light"
     },
     "output_type": "display_data"
    }
   ],
   "source": [
    "plt.scatter(train_df['BsmtQual'], train_df['SalePrice'], c = \"orange\")\n",
    "plt.scatter(train_df['BsmtCond'], train_df['SalePrice'], c = \"blue\")\n",
    "plt.legend()\n",
    "plt.show()"
   ]
  },
  {
   "cell_type": "markdown",
   "metadata": {},
   "source": [
    "I don't know what the difference is between overall condition and overall quality.\n",
    "For instance..."
   ]
  },
  {
   "cell_type": "markdown",
   "metadata": {},
   "source": [
    "I don't really undersand the difference between those two, but I will use them as they both\n",
    "look to have decent purity."
   ]
  },
  {
   "cell_type": "markdown",
   "metadata": {},
   "source": [
    "We can start with these and see how we do, fortunately, we have already encoded these."
   ]
  },
  {
   "cell_type": "code",
   "execution_count": 56,
   "metadata": {},
   "outputs": [],
   "source": [
    "train_new_x = train_df[['totalsf', 'YearBuilt', 'OverallCond', 'BsmtQual', 'BsmtCond']]\n",
    "dec_clipped = DecisionTreeClassifier(criterion = 'entropy', max_depth = 60, random_state = 99)\n",
    "dec_cut_fit = dec_clipped.fit(train_new_x, train_df_y)"
   ]
  },
  {
   "cell_type": "code",
   "execution_count": 57,
   "metadata": {},
   "outputs": [],
   "source": [
    "## I Need a square fottage for test\n",
    "SFTotals = test.filter(regex=\"SF\")\n",
    "test['totalsf'] = SFTotals.sum(axis=1)"
   ]
  },
  {
   "cell_type": "code",
   "execution_count": 58,
   "metadata": {},
   "outputs": [],
   "source": [
    "test_2 = test[['totalsf', 'Year Built', 'Overall Cond', 'Bsmt Qual', 'Bsmt Cond']]"
   ]
  },
  {
   "cell_type": "code",
   "execution_count": 59,
   "metadata": {
    "lines_to_next_cell": 2
   },
   "outputs": [
    {
     "name": "stderr",
     "output_type": "stream",
     "text": [
      "<ipython-input-59-0d61b9ef8133>:2: SettingWithCopyWarning: \n",
      "A value is trying to be set on a copy of a slice from a DataFrame.\n",
      "Try using .loc[row_indexer,col_indexer] = value instead\n",
      "\n",
      "See the caveats in the documentation: https://pandas.pydata.org/pandas-docs/stable/user_guide/indexing.html#returning-a-view-versus-a-copy\n",
      "  test_2['BsmtQual'] = test_2['Bsmt Qual'].astype('category').cat.codes\n",
      "<ipython-input-59-0d61b9ef8133>:3: SettingWithCopyWarning: \n",
      "A value is trying to be set on a copy of a slice from a DataFrame.\n",
      "Try using .loc[row_indexer,col_indexer] = value instead\n",
      "\n",
      "See the caveats in the documentation: https://pandas.pydata.org/pandas-docs/stable/user_guide/indexing.html#returning-a-view-versus-a-copy\n",
      "  test_2['BsmtCond'] = test_2['Bsmt Cond'].astype('category').cat.codes\n"
     ]
    }
   ],
   "source": [
    "##ugh\n",
    "test_2['BsmtQual'] = test_2['Bsmt Qual'].astype('category').cat.codes\n",
    "test_2['BsmtCond'] = test_2['Bsmt Cond'].astype('category').cat.codes\n",
    "test_2 = test_2.drop(['Bsmt Qual', 'Bsmt Cond'], axis = 1)"
   ]
  },
  {
   "cell_type": "code",
   "execution_count": 60,
   "metadata": {},
   "outputs": [
    {
     "name": "stdout",
     "output_type": "stream",
     "text": [
      "30956.48909260894\n"
     ]
    }
   ],
   "source": [
    "cutree_predictions = dec_cut_fit.predict(test_2)\n",
    "predictions_2_cut = pd.DataFrame(cutree_predictions, columns = ['output'])\n",
    "print(sqrt(mean_squared_error(values['SalePrice'],predictions_2_cut['output'])))"
   ]
  },
  {
   "cell_type": "markdown",
   "metadata": {},
   "source": [
    "30,956 is the error, which is terrible, and again not something we would usually do, just to satisfy this assignment.\n",
    "\n",
    "You can see up above that the depth of the tree is 60 because we have a continous varaiable there are a lot of splits happening. To cut the\n",
    "tree at a low level would be bad in that it would average the prices, For accuracy sake we don't really want to do unlesss we were only\n",
    "\n",
    "concerned with the bin that the final price might fall into."
   ]
  },
  {
   "cell_type": "markdown",
   "metadata": {},
   "source": [
    " will probably stop here, 30k is about what we could get the RMSE to. This is not terrible for a decision tree using continous variables.\n",
    "\n",
    "This data is clearly linear, so probably not something we would do on a real world example."
   ]
  },
  {
   "cell_type": "markdown",
   "metadata": {},
   "source": [
    "Another thing to note is that I did two variations of a decision tree, one using entropy and the other not. Python doesn't exactly have a direct translation from R counterparts."
   ]
  },
  {
   "cell_type": "code",
   "execution_count": null,
   "metadata": {},
   "outputs": [],
   "source": []
  }
 ],
 "metadata": {
  "jupytext": {
   "cell_metadata_filter": "-all",
   "notebook_metadata_filter": "-all",
   "text_representation": {
    "extension": ".py",
    "format_name": "light"
   }
  },
  "kernelspec": {
   "display_name": "Python 3",
   "language": "python",
   "name": "python3"
  },
  "language_info": {
   "codemirror_mode": {
    "name": "ipython",
    "version": 3
   },
   "file_extension": ".py",
   "mimetype": "text/x-python",
   "name": "python",
   "nbconvert_exporter": "python",
   "pygments_lexer": "ipython3",
   "version": "3.8.2"
  }
 },
 "nbformat": 4,
 "nbformat_minor": 4
}
